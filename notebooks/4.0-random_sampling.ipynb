{
 "cells": [
  {
   "cell_type": "markdown",
   "metadata": {},
   "source": [
    "---------------------------------------------------------------\n",
    "## VI. CRÉATION DE CLUSTERS ALÉATOIRES\n",
    "--------------------------------------------------------------"
   ]
  },
  {
   "cell_type": "markdown",
   "metadata": {},
   "source": [
    "Nous entreprenons d'abord de créer des clusers aléatoires afin de faire tourner les modèles sur des données volontairement hétérogènes."
   ]
  },
  {
   "cell_type": "code",
   "execution_count": 11,
   "metadata": {},
   "outputs": [
    {
     "name": "stderr",
     "output_type": "stream",
     "text": [
      "[nltk_data] Downloading package punkt to /Users/thevault/nltk_data...\n",
      "[nltk_data]   Package punkt is already up-to-date!\n"
     ]
    },
    {
     "data": {
      "text/plain": [
       "True"
      ]
     },
     "execution_count": 11,
     "metadata": {},
     "output_type": "execute_result"
    }
   ],
   "source": [
    "import pandas as pd\n",
    "import numpy as np\n",
    "import random\n",
    "import nltk\n",
    "import os\n",
    "from nltk.tokenize import word_tokenize  # Using NLTK to tokenize text\n",
    "\n",
    "nltk.download('punkt')"
   ]
  },
  {
   "cell_type": "code",
   "execution_count": 20,
   "metadata": {},
   "outputs": [],
   "source": [
    "# Import du jeu de données\n",
    "df = pd.read_csv('../data/processed/processed_data.csv')"
   ]
  },
  {
   "cell_type": "markdown",
   "metadata": {},
   "source": [
    "---\n",
    "### 1. Traitement préliminaire des données\n",
    "---"
   ]
  },
  {
   "cell_type": "code",
   "execution_count": 22,
   "metadata": {},
   "outputs": [],
   "source": [
    "# Retrait des colonnes inutiles\n",
    "df = df.drop(['label', 'text_prepr', 'has_similarity', 'similar_with', 'similarity_group', 'similarity_score'], axis = 1)\n",
    "\n",
    "# Extraction du 'type' des textes (short ou medium), et ajouter dans une colonne\n",
    "df['type'] = df['sign_count'].apply(\n",
    "    lambda x: 'short' if 50 <= x <= 280 else 'medium' if x > 280 else None)\n",
    "\n",
    "# Création d'un nouveau jeu de données avec que les 'short' et 'medium' pour le clustering\n",
    "df_short = df[df['type'] == 'short']\n",
    "df_medium = df[df['type'] == 'medium']"
   ]
  },
  {
   "cell_type": "code",
   "execution_count": 25,
   "metadata": {},
   "outputs": [
    {
     "data": {
      "text/html": [
       "<div>\n",
       "<style scoped>\n",
       "    .dataframe tbody tr th:only-of-type {\n",
       "        vertical-align: middle;\n",
       "    }\n",
       "\n",
       "    .dataframe tbody tr th {\n",
       "        vertical-align: top;\n",
       "    }\n",
       "\n",
       "    .dataframe thead th {\n",
       "        text-align: right;\n",
       "    }\n",
       "</style>\n",
       "<table border=\"1\" class=\"dataframe\">\n",
       "  <thead>\n",
       "    <tr style=\"text-align: right;\">\n",
       "      <th></th>\n",
       "      <th>id_50_3000</th>\n",
       "      <th>id_origin</th>\n",
       "      <th>text</th>\n",
       "      <th>sign_count</th>\n",
       "      <th>type</th>\n",
       "    </tr>\n",
       "  </thead>\n",
       "  <tbody>\n",
       "    <tr>\n",
       "      <th>0</th>\n",
       "      <td>0</td>\n",
       "      <td>55929</td>\n",
       "      <td>Dank is it a tornado n Raleigh car blowincg n ...</td>\n",
       "      <td>50</td>\n",
       "      <td>short</td>\n",
       "    </tr>\n",
       "    <tr>\n",
       "      <th>1</th>\n",
       "      <td>1</td>\n",
       "      <td>51817</td>\n",
       "      <td>@smoak_queen 'I'm going to be in so much troub...</td>\n",
       "      <td>50</td>\n",
       "      <td>short</td>\n",
       "    </tr>\n",
       "    <tr>\n",
       "      <th>2</th>\n",
       "      <td>2</td>\n",
       "      <td>51709</td>\n",
       "      <td>@CSAresu   American Tragedy http://t.co/SDmrzG...</td>\n",
       "      <td>50</td>\n",
       "      <td>short</td>\n",
       "    </tr>\n",
       "    <tr>\n",
       "      <th>3</th>\n",
       "      <td>3</td>\n",
       "      <td>47897</td>\n",
       "      <td>How to Survive a Dust Storm http://t.co/0yL3yT...</td>\n",
       "      <td>50</td>\n",
       "      <td>short</td>\n",
       "    </tr>\n",
       "    <tr>\n",
       "      <th>4</th>\n",
       "      <td>4</td>\n",
       "      <td>50836</td>\n",
       "      <td>I SCREAMED 'WHATS A CHONCe' http://t.co/GXYivs...</td>\n",
       "      <td>50</td>\n",
       "      <td>short</td>\n",
       "    </tr>\n",
       "  </tbody>\n",
       "</table>\n",
       "</div>"
      ],
      "text/plain": [
       "   id_50_3000  id_origin                                               text  \\\n",
       "0           0      55929  Dank is it a tornado n Raleigh car blowincg n ...   \n",
       "1           1      51817  @smoak_queen 'I'm going to be in so much troub...   \n",
       "2           2      51709  @CSAresu   American Tragedy http://t.co/SDmrzG...   \n",
       "3           3      47897  How to Survive a Dust Storm http://t.co/0yL3yT...   \n",
       "4           4      50836  I SCREAMED 'WHATS A CHONCe' http://t.co/GXYivs...   \n",
       "\n",
       "   sign_count   type  \n",
       "0          50  short  \n",
       "1          50  short  \n",
       "2          50  short  \n",
       "3          50  short  \n",
       "4          50  short  "
      ]
     },
     "execution_count": 25,
     "metadata": {},
     "output_type": "execute_result"
    }
   ],
   "source": [
    "# Affichage des posts courts\n",
    "df_short.head()"
   ]
  },
  {
   "cell_type": "code",
   "execution_count": 24,
   "metadata": {},
   "outputs": [
    {
     "data": {
      "text/html": [
       "<div>\n",
       "<style scoped>\n",
       "    .dataframe tbody tr th:only-of-type {\n",
       "        vertical-align: middle;\n",
       "    }\n",
       "\n",
       "    .dataframe tbody tr th {\n",
       "        vertical-align: top;\n",
       "    }\n",
       "\n",
       "    .dataframe thead th {\n",
       "        text-align: right;\n",
       "    }\n",
       "</style>\n",
       "<table border=\"1\" class=\"dataframe\">\n",
       "  <thead>\n",
       "    <tr style=\"text-align: right;\">\n",
       "      <th></th>\n",
       "      <th>id_50_3000</th>\n",
       "      <th>id_origin</th>\n",
       "      <th>text</th>\n",
       "      <th>sign_count</th>\n",
       "      <th>type</th>\n",
       "    </tr>\n",
       "  </thead>\n",
       "  <tbody>\n",
       "    <tr>\n",
       "      <th>35953</th>\n",
       "      <td>35953</td>\n",
       "      <td>8941</td>\n",
       "      <td>WASHINGTON (Reuters) - Senate Democratic leade...</td>\n",
       "      <td>281</td>\n",
       "      <td>medium</td>\n",
       "    </tr>\n",
       "    <tr>\n",
       "      <th>35954</th>\n",
       "      <td>35954</td>\n",
       "      <td>85520</td>\n",
       "      <td>Maybe partly logistics. Hurricanes give far mo...</td>\n",
       "      <td>281</td>\n",
       "      <td>medium</td>\n",
       "    </tr>\n",
       "    <tr>\n",
       "      <th>35955</th>\n",
       "      <td>35955</td>\n",
       "      <td>100415</td>\n",
       "      <td>The Federalist, a right-wing group with secret...</td>\n",
       "      <td>281</td>\n",
       "      <td>medium</td>\n",
       "    </tr>\n",
       "    <tr>\n",
       "      <th>35956</th>\n",
       "      <td>35956</td>\n",
       "      <td>88820</td>\n",
       "      <td>Volunteers with search dogs continue to scour ...</td>\n",
       "      <td>281</td>\n",
       "      <td>medium</td>\n",
       "    </tr>\n",
       "    <tr>\n",
       "      <th>35957</th>\n",
       "      <td>35957</td>\n",
       "      <td>79189</td>\n",
       "      <td>Main takeaways - If this country has a nationa...</td>\n",
       "      <td>281</td>\n",
       "      <td>medium</td>\n",
       "    </tr>\n",
       "  </tbody>\n",
       "</table>\n",
       "</div>"
      ],
      "text/plain": [
       "       id_50_3000  id_origin  \\\n",
       "35953       35953       8941   \n",
       "35954       35954      85520   \n",
       "35955       35955     100415   \n",
       "35956       35956      88820   \n",
       "35957       35957      79189   \n",
       "\n",
       "                                                    text  sign_count    type  \n",
       "35953  WASHINGTON (Reuters) - Senate Democratic leade...         281  medium  \n",
       "35954  Maybe partly logistics. Hurricanes give far mo...         281  medium  \n",
       "35955  The Federalist, a right-wing group with secret...         281  medium  \n",
       "35956  Volunteers with search dogs continue to scour ...         281  medium  \n",
       "35957  Main takeaways - If this country has a nationa...         281  medium  "
      ]
     },
     "execution_count": 24,
     "metadata": {},
     "output_type": "execute_result"
    }
   ],
   "source": [
    "# Affichage des posts moyens\n",
    "df_medium.head()"
   ]
  },
  {
   "cell_type": "markdown",
   "metadata": {},
   "source": [
    "---\n",
    "### 2. Regroupement par clusterisation\n",
    "---"
   ]
  },
  {
   "cell_type": "code",
   "execution_count": 26,
   "metadata": {},
   "outputs": [],
   "source": [
    "# Fonction pour tokéniser le texte\n",
    "def count_tokens(text):\n",
    "    return len(nltk.word_tokenize(text))"
   ]
  },
  {
   "cell_type": "code",
   "execution_count": 27,
   "metadata": {},
   "outputs": [],
   "source": [
    "# Fonction pour le clustering de textes aléatoires (100 clusters, max 1900 tokens)\n",
    "def create_clusters(df, max_clusters=100, max_tokens_per_cluster=1900):\n",
    "    # Initialiser le nouveau dataframe\n",
    "    final_clusters = pd.DataFrame(columns=['cluster_id', 'clustered_text', 'id_50_3000', 'token_number'])\n",
    "    \n",
    "    # Initialiser variables\n",
    "    cluster_id = 1\n",
    "    cluster_text = \"\"\n",
    "    cluster_tokens = 0\n",
    "    clustered_ids = []\n",
    "\n",
    "    # Mélanger le Dataframe\n",
    "    df = df.sample(frac=1).reset_index(drop=True)\n",
    "\n",
    "    # Passer par chaque row du Dataframe\n",
    "    for index, row in df.iterrows():\n",
    "        text = f\"- {row['text']}\\n\"\n",
    "        text_tokens = count_tokens(text)\n",
    "        \n",
    "        # Vérifier si la token limit a été surpassée\n",
    "        if cluster_tokens + text_tokens > max_tokens_per_cluster:\n",
    "            # Sauvegarder dans le current cluster\n",
    "            new_cluster = pd.DataFrame({\n",
    "                'cluster_id': [cluster_id],\n",
    "                'clustered_text': [cluster_text],\n",
    "                'id_50_3000': [', '.join(clustered_ids)],\n",
    "                'token_number': [cluster_tokens]\n",
    "            })\n",
    "            final_clusters = pd.concat([final_clusters, new_cluster], ignore_index=True)\n",
    "            \n",
    "            # Aller au prochain cluster\n",
    "            cluster_id += 1\n",
    "            cluster_text = \"\"\n",
    "            cluster_tokens = 0\n",
    "            clustered_ids = []\n",
    "            \n",
    "            # Stop si le max des clusters a été atteint\n",
    "            if cluster_id > max_clusters:\n",
    "                break\n",
    "\n",
    "        # Ajouter le texte au cluster\n",
    "        cluster_text += text\n",
    "        cluster_tokens += text_tokens\n",
    "        clustered_ids.append(str(row['id_50_3000']))\n",
    "\n",
    "    # Ajouter le dernier cluster si il y a du texte\n",
    "    if cluster_text:\n",
    "        new_cluster = pd.DataFrame({\n",
    "            'cluster_id': [cluster_id],\n",
    "            'clustered_text': [cluster_text],\n",
    "            'clusters_id_50_3000': [', '.join(clustered_ids)],\n",
    "            'token_number': [cluster_tokens]\n",
    "        })\n",
    "        final_clusters = pd.concat([final_clusters, new_cluster], ignore_index=True)\n",
    "\n",
    "    return final_clusters"
   ]
  },
  {
   "cell_type": "code",
   "execution_count": 28,
   "metadata": {},
   "outputs": [],
   "source": [
    "# On appliquer les fonction aux deux nouveaux jeux de données\n",
    "# Appliquer fonction à 'df_short'\n",
    "final_clusters_short = create_clusters(df_short)\n",
    "\n",
    "# Appliquer fonction à 'df_medium'\n",
    "final_clusters_medium = create_clusters(df_medium)"
   ]
  },
  {
   "cell_type": "code",
   "execution_count": 29,
   "metadata": {},
   "outputs": [],
   "source": [
    "# Ajouter une colonnes 'short' et combiner avec le 'cluster_id'\n",
    "final_clusters_short['type'] = 'short'\n",
    "final_clusters_short['cluster_id'] = 'R_' + final_clusters_short['type'] + '_' + final_clusters_short['cluster_id'].astype(str)\n",
    "\n",
    "# Ajouter une colonnes 'medium' et combiner avec le 'cluster_id'\n",
    "final_clusters_medium['type'] = 'medium'\n",
    "final_clusters_medium['cluster_id'] = 'R_' + final_clusters_medium['type'] + '_' + final_clusters_medium['cluster_id'].astype(str)\n",
    "\n",
    "# Merge both 'short' and 'medium' dataframes together together\n",
    "randomized_clusters = pd.concat([final_clusters_medium, final_clusters_short], axis=0, ignore_index=True)\n",
    "\n",
    "# Mettre R_medium\n",
    "randomized_clusters['type'] = 'R_' + randomized_clusters['type']"
   ]
  },
  {
   "cell_type": "code",
   "execution_count": 30,
   "metadata": {},
   "outputs": [
    {
     "data": {
      "text/html": [
       "<div>\n",
       "<style scoped>\n",
       "    .dataframe tbody tr th:only-of-type {\n",
       "        vertical-align: middle;\n",
       "    }\n",
       "\n",
       "    .dataframe tbody tr th {\n",
       "        vertical-align: top;\n",
       "    }\n",
       "\n",
       "    .dataframe thead th {\n",
       "        text-align: right;\n",
       "    }\n",
       "</style>\n",
       "<table border=\"1\" class=\"dataframe\">\n",
       "  <thead>\n",
       "    <tr style=\"text-align: right;\">\n",
       "      <th></th>\n",
       "      <th>cluster_id</th>\n",
       "      <th>clustered_text</th>\n",
       "      <th>id_50_3000</th>\n",
       "      <th>token_number</th>\n",
       "      <th>type</th>\n",
       "    </tr>\n",
       "  </thead>\n",
       "  <tbody>\n",
       "    <tr>\n",
       "      <th>0</th>\n",
       "      <td>R_medium_1</td>\n",
       "      <td>- This is the beauty of humanity. At 6 years o...</td>\n",
       "      <td>37768, 47185, 47979, 47743, 63102, 54176</td>\n",
       "      <td>1826</td>\n",
       "      <td>R_medium</td>\n",
       "    </tr>\n",
       "    <tr>\n",
       "      <th>1</th>\n",
       "      <td>R_medium_2</td>\n",
       "      <td>- LONDON (Reuters) - Prime Minister Theresa Ma...</td>\n",
       "      <td>63269, 45411, 39134, 63843, 55247, 42981</td>\n",
       "      <td>1879</td>\n",
       "      <td>R_medium</td>\n",
       "    </tr>\n",
       "    <tr>\n",
       "      <th>2</th>\n",
       "      <td>R_medium_3</td>\n",
       "      <td>- BRUSSELS (Reuters) - U.S. President Donald T...</td>\n",
       "      <td>47680, 48968, 63021, 58186</td>\n",
       "      <td>1550</td>\n",
       "      <td>R_medium</td>\n",
       "    </tr>\n",
       "    <tr>\n",
       "      <th>3</th>\n",
       "      <td>R_medium_4</td>\n",
       "      <td>- CAIRO (Reuters) - Egyptian President Abdel F...</td>\n",
       "      <td>54857, 39579, 61043, 48612, 57687</td>\n",
       "      <td>1669</td>\n",
       "      <td>R_medium</td>\n",
       "    </tr>\n",
       "    <tr>\n",
       "      <th>4</th>\n",
       "      <td>R_medium_5</td>\n",
       "      <td>- NEW DELHI (Reuters) - India s top court has ...</td>\n",
       "      <td>62639, 65075, 64421</td>\n",
       "      <td>1573</td>\n",
       "      <td>R_medium</td>\n",
       "    </tr>\n",
       "  </tbody>\n",
       "</table>\n",
       "</div>"
      ],
      "text/plain": [
       "   cluster_id                                     clustered_text  \\\n",
       "0  R_medium_1  - This is the beauty of humanity. At 6 years o...   \n",
       "1  R_medium_2  - LONDON (Reuters) - Prime Minister Theresa Ma...   \n",
       "2  R_medium_3  - BRUSSELS (Reuters) - U.S. President Donald T...   \n",
       "3  R_medium_4  - CAIRO (Reuters) - Egyptian President Abdel F...   \n",
       "4  R_medium_5  - NEW DELHI (Reuters) - India s top court has ...   \n",
       "\n",
       "                                 id_50_3000 token_number      type  \n",
       "0  37768, 47185, 47979, 47743, 63102, 54176         1826  R_medium  \n",
       "1  63269, 45411, 39134, 63843, 55247, 42981         1879  R_medium  \n",
       "2                47680, 48968, 63021, 58186         1550  R_medium  \n",
       "3         54857, 39579, 61043, 48612, 57687         1669  R_medium  \n",
       "4                       62639, 65075, 64421         1573  R_medium  "
      ]
     },
     "execution_count": 30,
     "metadata": {},
     "output_type": "execute_result"
    }
   ],
   "source": [
    "# On affiche le résultat\n",
    "randomized_clusters.head()"
   ]
  },
  {
   "cell_type": "code",
   "execution_count": 31,
   "metadata": {},
   "outputs": [],
   "source": [
    "# On enregistre le jeu de données\n",
    "randomized_clusters.to_csv('../data/processed/randomized_clusters.csv', index=False)"
   ]
  }
 ],
 "metadata": {
  "kernelspec": {
   "display_name": "DST_projet_twitter",
   "language": "python",
   "name": "python3"
  },
  "language_info": {
   "codemirror_mode": {
    "name": "ipython",
    "version": 3
   },
   "file_extension": ".py",
   "mimetype": "text/x-python",
   "name": "python",
   "nbconvert_exporter": "python",
   "pygments_lexer": "ipython3",
   "version": "3.12.4"
  }
 },
 "nbformat": 4,
 "nbformat_minor": 2
}
